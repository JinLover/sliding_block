{
 "cells": [
  {
   "cell_type": "code",
   "execution_count": 142,
   "metadata": {},
   "outputs": [
    {
     "name": "stdout",
     "output_type": "stream",
     "text": [
      "483841, 181440\r"
     ]
    }
   ],
   "source": [
    "from main import Block\n",
    "from collections import deque\n",
    "import copy, time, sys\n",
    "\n",
    "visit = {}\n",
    "length = {}\n",
    "candi = deque([Block(3)])\n",
    "viewed = 0\n",
    "\n",
    "while candi:\n",
    "    viewed += 1\n",
    "    sys.stdout.write(f\"{viewed}, {len(visit)}\\r\")\n",
    "    \n",
    "    obj = candi.popleft()\n",
    "    hash_val = hash(tuple(tuple(row) for row in obj.map))\n",
    "    ori_map = visit.get(hash_val, None)\n",
    "    \n",
    "    if ori_map is None:\n",
    "        visit[hash_val] = obj.map\n",
    "        length[hash_val] = obj.log\n",
    "        for tile in obj.available():\n",
    "            new = copy.deepcopy(obj)\n",
    "            new.move(tile)\n",
    "            candi.append(new)\n",
    "    else:\n",
    "        if len(obj.log) < len(length[hash_val]):\n",
    "            length[hash_val] = obj.log"
   ]
  },
  {
   "cell_type": "code",
   "execution_count": 143,
   "metadata": {},
   "outputs": [
    {
     "data": {
      "text/plain": [
       "181440"
      ]
     },
     "execution_count": 143,
     "metadata": {},
     "output_type": "execute_result"
    }
   ],
   "source": [
    "len(visit)"
   ]
  },
  {
   "cell_type": "code",
   "execution_count": 144,
   "metadata": {},
   "outputs": [
    {
     "data": {
      "text/plain": [
       "31"
      ]
     },
     "execution_count": 144,
     "metadata": {},
     "output_type": "execute_result"
    }
   ],
   "source": [
    "max([len(l) for l in length.values()])"
   ]
  },
  {
   "cell_type": "code",
   "execution_count": 145,
   "metadata": {},
   "outputs": [
    {
     "name": "stdout",
     "output_type": "stream",
     "text": [
      "[[8, 6, 7], [2, 5, 4], [3, 0, 1]]\n",
      "[[1, 2], [0, 2], [0, 1], [1, 1], [2, 1], [2, 0], [1, 0], [1, 1], [1, 2], [0, 2], [0, 1], [0, 0], [1, 0], [1, 1], [1, 2], [2, 2], [2, 1], [2, 0], [1, 0], [1, 1], [0, 1], [0, 2], [1, 2], [2, 2], [2, 1], [1, 1], [0, 1], [0, 2], [1, 2], [2, 2], [2, 1]]\n",
      "[[6, 4, 7], [8, 5, 0], [3, 2, 1]]\n",
      "[[1, 2], [0, 2], [0, 1], [1, 1], [2, 1], [2, 2], [1, 2], [0, 2], [0, 1], [0, 0], [1, 0], [2, 0], [2, 1], [1, 1], [1, 0], [2, 0], [2, 1], [2, 2], [1, 2], [0, 2], [0, 1], [1, 1], [1, 2], [0, 2], [0, 1], [0, 0], [1, 0], [2, 0], [2, 1], [2, 2], [1, 2]]\n"
     ]
    }
   ],
   "source": [
    "for H, log in length.items():\n",
    "    if len(log) == 31:\n",
    "        print(visit[H])\n",
    "        print(log)"
   ]
  },
  {
   "cell_type": "code",
   "execution_count": 147,
   "metadata": {},
   "outputs": [
    {
     "data": {
      "text/plain": [
       "[[8, 6, 7], [2, 5, 4], [3, 0, 1]]"
      ]
     },
     "execution_count": 147,
     "metadata": {},
     "output_type": "execute_result"
    }
   ],
   "source": [
    "current_map = [[8, 6, 7], [2, 5, 4], [3, 0, 1]]\n",
    "tuplize = tuple(tuple(row) for row in current_map)\n",
    "visit[hash(tuplize)]"
   ]
  },
  {
   "cell_type": "code",
   "execution_count": 146,
   "metadata": {},
   "outputs": [
    {
     "name": "stdout",
     "output_type": "stream",
     "text": [
      "6 4 7 \n",
      "8 5 0 \n",
      "3 2 1 \n",
      "[2, 2]\n",
      "[2, 1]\n",
      "[2, 0]\n",
      "[1, 0]\n",
      "[0, 0]\n",
      "[0, 1]\n",
      "[0, 2]\n",
      "[1, 2]\n",
      "[1, 1]\n",
      "[0, 1]\n",
      "[0, 2]\n",
      "[1, 2]\n",
      "[2, 2]\n",
      "[2, 1]\n",
      "[2, 0]\n",
      "[1, 0]\n",
      "[1, 1]\n",
      "[2, 1]\n",
      "[2, 0]\n",
      "[1, 0]\n",
      "[0, 0]\n",
      "[0, 1]\n",
      "[0, 2]\n",
      "[1, 2]\n",
      "[2, 2]\n",
      "[2, 1]\n",
      "[1, 1]\n",
      "[0, 1]\n",
      "[0, 2]\n",
      "[1, 2]\n",
      "[2, 2]\n",
      "1 2 3 \n",
      "4 5 6 \n",
      "7 8 0 \n"
     ]
    }
   ],
   "source": [
    "b = Block(3)\n",
    "for act in (log):\n",
    "    b.move(act)\n",
    "b.print()\n",
    "for act in reversed([[2, 2]] + log[:-1]):\n",
    "    print(act)\n",
    "    b.move(act)\n",
    "b.print()"
   ]
  },
  {
   "cell_type": "code",
   "execution_count": 35,
   "metadata": {},
   "outputs": [
    {
     "data": {
      "text/plain": [
       "1.1457228660583496"
      ]
     },
     "execution_count": 35,
     "metadata": {},
     "output_type": "execute_result"
    }
   ],
   "source": [
    "import time\n",
    "start = time.time()\n",
    "D = {x: \" \" for x in range(10000000)}\n",
    "end = time.time()\n",
    "end - start"
   ]
  },
  {
   "cell_type": "code",
   "execution_count": 57,
   "metadata": {},
   "outputs": [
    {
     "name": "stdout",
     "output_type": "stream",
     "text": [
      "asdf\n"
     ]
    },
    {
     "data": {
      "text/plain": [
       "0.00012421607971191406"
      ]
     },
     "execution_count": 57,
     "metadata": {},
     "output_type": "execute_result"
    }
   ],
   "source": [
    "start = time.time()\n",
    "if 10000 in D:\n",
    "    print(\"asdf\")\n",
    "end = time.time()\n",
    "end - start"
   ]
  },
  {
   "cell_type": "code",
   "execution_count": 67,
   "metadata": {},
   "outputs": [
    {
     "data": {
      "text/plain": [
       "9.799003601074219e-05"
      ]
     },
     "execution_count": 67,
     "metadata": {},
     "output_type": "execute_result"
    }
   ],
   "source": [
    "start = time.time()\n",
    "D.get(1000, 0)\n",
    "end = time.time()\n",
    "end - start"
   ]
  }
 ],
 "metadata": {
  "kernelspec": {
   "display_name": "whisper",
   "language": "python",
   "name": "python3"
  },
  "language_info": {
   "codemirror_mode": {
    "name": "ipython",
    "version": 3
   },
   "file_extension": ".py",
   "mimetype": "text/x-python",
   "name": "python",
   "nbconvert_exporter": "python",
   "pygments_lexer": "ipython3",
   "version": "3.11.8"
  }
 },
 "nbformat": 4,
 "nbformat_minor": 2
}
